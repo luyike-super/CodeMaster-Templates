{
 "cells": [
  {
   "cell_type": "markdown",
   "metadata": {},
   "source": [
    "Jina AI 提供一系列 API 和工具，支持构建企业级搜索和 RAG（检索增强生成）系统，包括：​\n",
    "\n",
    "    DeepSearch：​结合阅读、推理和检索能力，提供高质量的答案生成。​\n",
    "\n",
    "    Reader：​将网页内容转换为 LLM（大型语言模型）友好的输入格式，支持标准模式和流式模式。​\n",
    "\n",
    "    Embeddings：​提供世界级的多模态、多语言文本嵌入模型，支持长达8192个token的上下文长度。​\n",
    "\n",
    "    Reranker：​用于提升搜索结果的相关性，优化排序。​\n",
    "\n",
    "    Classifier：​支持零-shot和少-shot分类，适用于图像和文本。​\n",
    "\n",
    "    Segmenter：​将长文本切分为更小的块，进行标记化处理。​\n",
    "\n",
    "官网： https://jina.ai/"
   ]
  }
 ],
 "metadata": {
  "language_info": {
   "name": "python"
  }
 },
 "nbformat": 4,
 "nbformat_minor": 2
}
