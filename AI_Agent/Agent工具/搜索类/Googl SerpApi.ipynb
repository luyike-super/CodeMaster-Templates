{
 "cells": [
  {
   "cell_type": "markdown",
   "metadata": {},
   "source": [
    "### 地址\n",
    "\n",
    "https://serpapi.com/\n",
    "\n",
    "### 特点\n",
    "\n",
    "Google SerpApi是一款强大的搜索API，能够实时获取Google、Google Maps、Google Shopping等多种类型的搜索结果。它通过全球IP地址和浏览器集群确保用户能够获得与真实用户相同的搜索体验和结果。"
   ]
  }
 ],
 "metadata": {
  "language_info": {
   "name": "python"
  }
 },
 "nbformat": 4,
 "nbformat_minor": 2
}
