{
 "cells": [
  {
   "cell_type": "markdown",
   "metadata": {},
   "source": [
    "### LangGraph使用该工具搜索"
   ]
  },
  {
   "cell_type": "code",
   "execution_count": null,
   "metadata": {
    "vscode": {
     "languageId": "plaintext"
    }
   },
   "outputs": [],
   "source": [
    "from app.utils.search import SearchEngineFactory\n",
    "from app.utils.search import SearchEngineType\n",
    "from langchain.agents import tool\n",
    "\n",
    "\n",
    "# 搜索工具函数\n",
    "@tool\n",
    "def search_tool_factory(query: str) -> dict:\n",
    "    \"\"\"\n",
    "    使用Tavily搜索引擎执行网络搜索并返回最新、相关的搜索结果。\n",
    "    \n",
    "    此工具可用于获取实时资讯、新闻报道和网络内容，特别适合寻找时事动态和最新发展。\n",
    "    \n",
    "    参数:\n",
    "        query (str): 要搜索的查询字符串，支持中英文\n",
    "        \n",
    "    返回:\n",
    "        dict: 包含搜索结果的字典，结构如下:\n",
    "            {\n",
    "                \"query\": \"原始查询内容\",\n",
    "                \"follow_up_questions\": None 或 [建议的后续问题列表],\n",
    "                \"answer\": None 或 基于结果的摘要回答,\n",
    "                \"images\": [] 或 [相关图片链接列表],\n",
    "                \"results\": [\n",
    "                    {\n",
    "                        \"title\": \"网页标题\",\n",
    "                        \"url\": \"网页URL\",\n",
    "                        \"content\": \"网页内容摘要\",\n",
    "                        \"score\": 相关性评分(0-1之间的浮点数),\n",
    "                        \"raw_content\": None 或 原始内容\n",
    "                    },\n",
    "                    ...\n",
    "                ],\n",
    "                \"response_time\": 响应时间(秒)\n",
    "            }\n",
    "            \n",
    "    搜索结果按相关性排序，通常返回5-10条结果。每条结果包含标题、URL、内容摘要和相关性评分。\n",
    "    \n",
    "    示例:\n",
    "        >>> result = search_tool_factory(\"特朗普最新关于中美贸易战的态度\")\n",
    "        >>> print(result[\"results\"][0][\"title\"])\n",
    "        '特朗普对贸易战孤注一掷，威胁其他关键对华谈判 - 纽约时报中文网'\n",
    "        >>> print(f\"搜索用时: {result['response_time']}秒\")\n",
    "        '搜索用时: 1.76秒'\n",
    "    \"\"\"\n",
    "    search_tool = SearchEngineFactory.create_engine(SearchEngineType.TAVILY)\n",
    "    search_result = search_tool.search(query)\n",
    "    return search_result"
   ]
  }
 ],
 "metadata": {
  "language_info": {
   "name": "python"
  }
 },
 "nbformat": 4,
 "nbformat_minor": 2
}
