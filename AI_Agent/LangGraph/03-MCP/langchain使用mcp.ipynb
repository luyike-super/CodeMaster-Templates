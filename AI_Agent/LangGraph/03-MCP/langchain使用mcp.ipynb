{
 "cells": [
  {
   "cell_type": "code",
   "execution_count": null,
   "metadata": {
    "vscode": {
     "languageId": "plaintext"
    }
   },
   "outputs": [],
   "source": [
    "from langchain_mcp_adapters.client import MultiServerMCPClient\n",
    "from langgraph.prebuilt import create_react_agent\n",
    "import asyncio\n",
    "from langchain_deepseek import ChatDeepSeek\n",
    "\n",
    "\n",
    "deepseek_client = ChatDeepSeek(\n",
    "    api_key=\"deepseek-key\",\n",
    "    model=\"deepseek-chat\",\n",
    "    base_url=\"https://api.deepseek.com/v1\",\n",
    ")\n",
    "\n",
    "async def main():\n",
    "    async with MultiServerMCPClient(\n",
    "        {\n",
    "            \"math\": {\n",
    "                \"command\": \"python\",\n",
    "                # Replace with absolute path to your math_server.py file\n",
    "                \"args\": [\"server.py\"],\n",
    "                \"transport\": \"stdio\",\n",
    "            },\n",
    "            \"weather\": {\n",
    "                # 使用URL形式的MCP服务器\n",
    "                \"url\": \"https://server.smithery.ai/@mcp-examples/weather/mcp?api_key=edd2f6f5af0c\",\n",
    "                \"transport\": \"sse\",  # MultiServerMCPClient只支持'stdio'和'sse'两种传输方式\n",
    "            }\n",
    "        }\n",
    "    ) as client:\n",
    "        agent = create_react_agent(\n",
    "            deepseek_client,\n",
    "            client.get_tools()\n",
    "        )\n",
    "        # 测试本地math服务\n",
    "        math_response = await agent.ainvoke(\n",
    "            {\"messages\": [{\"role\": \"user\", \"content\": \"what's 3 + 5?\"}]}\n",
    "        )\n",
    "        print(\"Math response:\", math_response)\n",
    "        \n",
    "        # 测试远程weather服务\n",
    "        weather_response = await agent.ainvoke(\n",
    "            {\"messages\": [{\"role\": \"user\", \"content\": \"what is the weather in Beijing?\"}]}\n",
    "        )\n",
    "        print(\"Weather response:\", weather_response)\n",
    "\n",
    "if __name__ == \"__main__\":\n",
    "    asyncio.run(main())"
   ]
  },
  {
   "cell_type": "markdown",
   "metadata": {},
   "source": []
  }
 ],
 "metadata": {
  "language_info": {
   "name": "python"
  }
 },
 "nbformat": 4,
 "nbformat_minor": 2
}
