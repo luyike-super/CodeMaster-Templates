{
 "cells": [
  {
   "cell_type": "markdown",
   "metadata": {},
   "source": [
    "# 哲学1:  尽可能提需求 ，而不是做限制\n",
    "\n",
    "\n",
    "\n",
    "# 哲学2： 不要过于具体 (否则会出现`菜鸟` 指挥大师的尴尬局面)\n",
    "背景是多个搜索API， 想进行低耦合设计\n",
    "\n",
    "错误提示词： 使用装饰器工厂模型实现多个搜索API ， 每个搜索API使用单例模式\n",
    "\n",
    "正确提示词： 有多个搜索API， 将来可能进行替换， 需要进行低耦合设计 ，给出3个具体的设计方案，交给我进行抉择。"
   ]
  }
 ],
 "metadata": {
  "language_info": {
   "name": "python"
  }
 },
 "nbformat": 4,
 "nbformat_minor": 2
}
